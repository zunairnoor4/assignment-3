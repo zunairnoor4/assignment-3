{
 "cells": [
  {
   "cell_type": "code",
   "execution_count": 5,
   "metadata": {},
   "outputs": [
    {
     "name": "stdout",
     "output_type": "stream",
     "text": [
      "English Marks34\n",
      "Maths Marks56\n",
      "Urdu Marks7\n",
      "Science Marks86\n",
      "Islamiyat Marks89\n",
      "F Grade\n"
     ]
    }
   ],
   "source": [
    "# Mark sheet\n",
    "\n",
    "eng = int(input(\"English Marks\"))\n",
    "math = int(input(\"Maths Marks\"))\n",
    "urdu = int(input(\"Urdu Marks\"))\n",
    "sci = int(input(\"Science Marks\"))\n",
    "isl = int(input(\"Islamiyat Marks\"))\n",
    "\n",
    "avg = (eng+math+urdu+sci+isl)/5\n",
    "\n",
    "if avg>= 90:\n",
    "    print(\"A+ Grade\")\n",
    "    \n",
    "elif avg>=80 and avg<90:\n",
    "    print(\"A Grade\")\n",
    "elif avg>=70 and avg<80:\n",
    "    print(\"B Grade\")\n",
    "elif avg>=60 and avg<70:\n",
    "    print(\"C Grade\")\n",
    "else:\n",
    "    print(\"F Grade\")\n",
    "    \n"
   ]
  },
  {
   "cell_type": "code",
   "execution_count": 11,
   "metadata": {},
   "outputs": [
    {
     "name": "stdout",
     "output_type": "stream",
     "text": [
      "Write a Number4\n",
      "Number is Even\n",
      "4\n"
     ]
    }
   ],
   "source": [
    "# Even or Odd\n",
    "\n",
    "num = int(input(\"Write a Number\"))\n",
    "x = int(num/2)*2\n",
    "if x==num:\n",
    "    print('Number is Even')\n",
    "else:\n",
    "    print('Number is Odd')\n",
    "print(x)"
   ]
  },
  {
   "cell_type": "code",
   "execution_count": 13,
   "metadata": {},
   "outputs": [
    {
     "data": {
      "text/plain": [
       "7"
      ]
     },
     "execution_count": 13,
     "metadata": {},
     "output_type": "execute_result"
    }
   ],
   "source": [
    "lst = [1,2,3,4,5,6]\n",
    "\n",
    "len(lst)"
   ]
  },
  {
   "cell_type": "code",
   "execution_count": 1,
   "metadata": {},
   "outputs": [
    {
     "name": "stdout",
     "output_type": "stream",
     "text": [
      "17\n"
     ]
    }
   ],
   "source": [
    "# Element adding in list\n",
    "lst = [2,3,5,7]\n",
    "x = 0\n",
    "\n",
    "for y in lst:\n",
    "    x+=y\n",
    "print(x)"
   ]
  },
  {
   "cell_type": "code",
   "execution_count": 3,
   "metadata": {},
   "outputs": [
    {
     "name": "stdout",
     "output_type": "stream",
     "text": [
      "8\n",
      "7\n"
     ]
    }
   ],
   "source": [
    "# largest number from list\n",
    "\n",
    "lst = [8,2,3,5,7]\n",
    "x=0\n",
    "\n",
    "for i in lst:\n",
    "    if i>5:\n",
    "        print(i)\n"
   ]
  },
  {
   "cell_type": "code",
   "execution_count": 18,
   "metadata": {},
   "outputs": [
    {
     "name": "stdout",
     "output_type": "stream",
     "text": [
      "[1, 1, 2, 3]\n"
     ]
    }
   ],
   "source": [
    "# Elements Less than 5\n",
    "\n",
    "a = [1,1,2,3,5,8,13,21,34,55,89]\n",
    "\n",
    "b = []\n",
    "for i in a:\n",
    "    if i<5:\n",
    "        b.append(i)\n",
    "        \n",
    "print(b)"
   ]
  }
 ],
 "metadata": {
  "kernelspec": {
   "display_name": "Python 3",
   "language": "python",
   "name": "python3"
  },
  "language_info": {
   "codemirror_mode": {
    "name": "ipython",
    "version": 3
   },
   "file_extension": ".py",
   "mimetype": "text/x-python",
   "name": "python",
   "nbconvert_exporter": "python",
   "pygments_lexer": "ipython3",
   "version": "3.7.3"
  }
 },
 "nbformat": 4,
 "nbformat_minor": 2
}
