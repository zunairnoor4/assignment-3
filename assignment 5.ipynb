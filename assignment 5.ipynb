{
 "cells": [
  {
   "cell_type": "code",
   "execution_count": 3,
   "metadata": {},
   "outputs": [
    {
     "name": "stdout",
     "output_type": "stream",
     "text": [
      "Write a number: 3\n",
      "The factorial of 3 is 6\n"
     ]
    }
   ],
   "source": [
    "# Python program to find the factorial of a number provided by the user.\n",
    "# change the value for a different result\n",
    "num = int(input(\"Write a number: \"))\n",
    "# To take input from the user\n",
    "#num = int(input(\"Enter a number: \"))\n",
    "factorial = 1\n",
    "# check if the number is negative, positive or zero\n",
    "if num < 0:\n",
    "    print(\"Sorry, factorial does not exist for negative numbers\")\n",
    "elif num == 0:\n",
    "    print(\"The factorial of 0 is 1\")\n",
    "else:\n",
    "    for i in range(1,num + 1):\n",
    "        factorial = factorial*i\n",
    "    print(\"The factorial of\",num,\"is\",factorial)"
   ]
  },
  {
   "cell_type": "code",
   "execution_count": 5,
   "metadata": {},
   "outputs": [
    {
     "name": "stdout",
     "output_type": "stream",
     "text": [
      "Write a sentence: Hello World\n",
      "Original String :  Hello World\n",
      "No. of Upper case characters :  2\n",
      "No. of Lower case Characters :  8\n"
     ]
    }
   ],
   "source": [
    "# 2\n",
    "s = input(\"Write a sentence: \")    \n",
    "d={\"UPPER_CASE\":0, \"LOWER_CASE\":0}\n",
    "for c in s:\n",
    "    if c.isupper():\n",
    "        d[\"UPPER_CASE\"]+=1\n",
    "    elif c.islower():\n",
    "        d[\"LOWER_CASE\"]+=1\n",
    "    else:\n",
    "        pass\n",
    "print (\"Original String : \", s)\n",
    "print (\"No. of Upper case characters : \", d[\"UPPER_CASE\"])\n",
    "print (\"No. of Lower case Characters : \", d[\"LOWER_CASE\"])\n",
    "\n"
   ]
  },
  {
   "cell_type": "code",
   "execution_count": 12,
   "metadata": {},
   "outputs": [
    {
     "name": "stdout",
     "output_type": "stream",
     "text": [
      "even numbers in list are:\n",
      "10 4 66 "
     ]
    }
   ],
   "source": [
    "# Python program to print Even Numbers in a List \n",
    "  \n",
    "# list of numbers \n",
    "list1 = [10, 21, 4, 45, 66, 93] \n",
    "  \n",
    "# iterating each number in list\n",
    "print(\"even numbers in list are:\")\n",
    "for num in list1:       \n",
    "    # checking condition \n",
    "    if num % 2 == 0: \n",
    "\n",
    "        print(num, end = \" \") "
   ]
  },
  {
   "cell_type": "code",
   "execution_count": 13,
   "metadata": {},
   "outputs": [
    {
     "name": "stdout",
     "output_type": "stream",
     "text": [
      "enter word: madam\n",
      "Plaindrome\n"
     ]
    }
   ],
   "source": [
    "# 4\n",
    "s = input(\"enter word: \")\n",
    "rev = s[::-1]\n",
    "\n",
    "if (s == rev):\n",
    "    print(\"Plaindrome\")\n",
    "else:\n",
    "    print(\"Not Plaindrome\")"
   ]
  },
  {
   "cell_type": "code",
   "execution_count": 1,
   "metadata": {},
   "outputs": [
    {
     "name": "stdout",
     "output_type": "stream",
     "text": [
      "write number: 5\n",
      "5 is a prime number\n"
     ]
    }
   ],
   "source": [
    "# prime numbers are greater than 1\n",
    "num = int(input(\"write number: \"))\n",
    "if num > 1:\n",
    "   # check for factors\n",
    "    for i in range(2,num):\n",
    "        if (num % i) == 0:\n",
    "            print(num,\"is not a prime number\")\n",
    "            print(i,\"times\",num//i,\"is\",num)\n",
    "            break\n",
    "    else:\n",
    "        print(num,\"is a prime number\")\n",
    "       \n",
    " # if input number is less than\n",
    "# or equal to 1, it is not prime\n",
    "else:\n",
    "    print(num,\"is not a prime number\")"
   ]
  },
  {
   "cell_type": "code",
   "execution_count": null,
   "metadata": {},
   "outputs": [],
   "source": []
  },
  {
   "cell_type": "code",
   "execution_count": null,
   "metadata": {},
   "outputs": [],
   "source": []
  },
  {
   "cell_type": "code",
   "execution_count": null,
   "metadata": {},
   "outputs": [],
   "source": []
  }
 ],
 "metadata": {
  "kernelspec": {
   "display_name": "Python 3",
   "language": "python",
   "name": "python3"
  },
  "language_info": {
   "codemirror_mode": {
    "name": "ipython",
    "version": 3
   },
   "file_extension": ".py",
   "mimetype": "text/x-python",
   "name": "python",
   "nbconvert_exporter": "python",
   "pygments_lexer": "ipython3",
   "version": "3.7.3"
  }
 },
 "nbformat": 4,
 "nbformat_minor": 2
}
