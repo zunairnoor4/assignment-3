{
 "cells": [
  {
   "cell_type": "code",
   "execution_count": 8,
   "metadata": {},
   "outputs": [
    {
     "name": "stdout",
     "output_type": "stream",
     "text": [
      "{'first_name': 'Zuair', 'second_name': 'Noor', 'age': 19}\n"
     ]
    }
   ],
   "source": [
    "# 01\n",
    "\n",
    "zunair = {\n",
    "    \"first_name\": \"Zuair\",\n",
    "    \"second_name\": \"Noor\",\n",
    "    \"age\": 19\n",
    "    }\n",
    "print(zunair)\n",
    "\n"
   ]
  },
  {
   "cell_type": "code",
   "execution_count": 9,
   "metadata": {},
   "outputs": [
    {
     "name": "stdout",
     "output_type": "stream",
     "text": [
      "{'first_name': 'Zuair', 'second_name': 'Noor', 'age': 19, 'qualification': 'Matric'}\n"
     ]
    }
   ],
   "source": [
    "zunair[\"qualification\"]=\"Matric\"\n",
    "print(zunair)"
   ]
  },
  {
   "cell_type": "code",
   "execution_count": 10,
   "metadata": {},
   "outputs": [
    {
     "name": "stdout",
     "output_type": "stream",
     "text": [
      "{'first_name': 'Zuair', 'second_name': 'Noor', 'age': 19, 'qualification': 'intermediate'}\n"
     ]
    }
   ],
   "source": [
    "zunair[\"qualification\"]=\"intermediate\"\n",
    "print(zunair)"
   ]
  },
  {
   "cell_type": "code",
   "execution_count": 11,
   "metadata": {},
   "outputs": [
    {
     "name": "stdout",
     "output_type": "stream",
     "text": [
      "{'first_name': 'Zuair', 'second_name': 'Noor', 'age': 19}\n"
     ]
    }
   ],
   "source": [
    "del zunair[\"qualification\"]\n",
    "print(zunair)"
   ]
  },
  {
   "cell_type": "code",
   "execution_count": 15,
   "metadata": {},
   "outputs": [
    {
     "name": "stdout",
     "output_type": "stream",
     "text": [
      "{'karachi': {'country': 'Pakistan', 'population': '2 crore', 'fact': 'city of lights'}, 'lahore': {'country': 'Pakistan', 'population': '1.5 crore', 'fact': 'zinda dillon ka shehar'}, 'Islamabad': {'country': 'Pakistan', 'population': '30 lac', 'fact': 'capital of pakistan'}}\n"
     ]
    }
   ],
   "source": [
    "# 02\n",
    "\n",
    "Cities = {\n",
    "    \"karachi\": {\"country\":\"Pakistan\", \"population\": \"2 crore\", \"fact\": \"city of lights\"},\n",
    "    \"lahore\": {\"country\":\"Pakistan\", \"population\": \"1.5 crore\", \"fact\": \"zinda dillon ka shehar\"},\n",
    "    \"Islamabad\": {\"country\":\"Pakistan\", \"population\": \"30 lac\", \"fact\": \"capital of pakistan\"},\n",
    "}\n",
    "print(Cities)\n"
   ]
  },
  {
   "cell_type": "code",
   "execution_count": 24,
   "metadata": {},
   "outputs": [
    {
     "name": "stdout",
     "output_type": "stream",
     "text": [
      "Write Your Age 4\n",
      "Ticket price is $10\n"
     ]
    }
   ],
   "source": [
    "# 03\n",
    "\n",
    "age =  int(input(\"Write Your Age \"))\n",
    "\n",
    "if age <=3:\n",
    "    print(\"Ticket price is $3\")\n",
    "elif 3<age<= 10 and age :\n",
    "    print(\"Ticket price is $10\")\n",
    "elif 10<age<=30:\n",
    "    print(\"Ticket price is $20\")\n",
    "else:\n",
    "    print(\"Ticket price is $10\")"
   ]
  },
  {
   "cell_type": "code",
   "execution_count": 34,
   "metadata": {},
   "outputs": [],
   "source": [
    "# 04 \n",
    "\n",
    "def Book():\n",
    "    title = input(\"Entre Boook Titel \")\n",
    "    print(title,\"is my favourite book\")\n",
    "    \n"
   ]
  },
  {
   "cell_type": "code",
   "execution_count": 35,
   "metadata": {},
   "outputs": [
    {
     "name": "stdout",
     "output_type": "stream",
     "text": [
      "Entre Boook Titel Alice and the Wonder land\n",
      "Alice and the Wonder land is my favourite book\n"
     ]
    }
   ],
   "source": [
    "a = Book()\n",
    "a"
   ]
  },
  {
   "cell_type": "code",
   "execution_count": 45,
   "metadata": {},
   "outputs": [
    {
     "name": "stdout",
     "output_type": "stream",
     "text": [
      "Hello! What is your name?\n",
      " enter Namezunair\n",
      "Well, zunair, I am thinking of a number between 1 and 20.\n",
      "Take a guess.\n",
      "4\n",
      "Your guess is too low.\n",
      "Take a guess.\n",
      "7\n",
      "Your guess is too high.\n",
      "Take a guess.\n",
      "15\n",
      "Your guess is too high.\n",
      "Nope. The number I was thinking of was 5\n"
     ]
    }
   ],
   "source": [
    "# 05\n",
    " # This is a guess the number game.\n",
    "\n",
    "import random\n",
    "guessesTaken = 0\n",
    "\n",
    "print('Hello! What is your name?')\n",
    "\n",
    "myName = input(\" enter Name\")\n",
    "number = random.randint(1, 20)\n",
    "\n",
    "print('Well, ' + myName + ', I am thinking of a number between 1 and 20.')\n",
    "\n",
    "while guessesTaken < 3:\n",
    "\n",
    "    print('Take a guess.') \n",
    "    guess = input()\n",
    "    guess = int(guess)\n",
    "\n",
    "\n",
    "\n",
    "    guessesTaken = guessesTaken + 1\n",
    "\n",
    "\n",
    "\n",
    "    if guess < number:\n",
    "\n",
    "        print('Your guess is too low.') # There are eight spaces in front of print.\n",
    "\n",
    "    if guess > number:\n",
    "\n",
    "         print('Your guess is too high.')\n",
    "\n",
    "\n",
    "\n",
    "    if guess == number:\n",
    "\n",
    "         break\n",
    "\n",
    "\n",
    "\n",
    "if guess == number:\n",
    "\n",
    "     guessesTaken = str(guessesTaken)\n",
    "\n",
    "     print('Good job, ' + myName + '! You guessed my number in ' + guessesTaken + ' guesses!')\n",
    "if guess != number:\n",
    "\n",
    "     number = str(number)\n",
    "\n",
    "     print('Nope. The number I was thinking of was ' + number)"
   ]
  },
  {
   "cell_type": "code",
   "execution_count": null,
   "metadata": {},
   "outputs": [],
   "source": []
  }
 ],
 "metadata": {
  "kernelspec": {
   "display_name": "Python 3",
   "language": "python",
   "name": "python3"
  },
  "language_info": {
   "codemirror_mode": {
    "name": "ipython",
    "version": 3
   },
   "file_extension": ".py",
   "mimetype": "text/x-python",
   "name": "python",
   "nbconvert_exporter": "python",
   "pygments_lexer": "ipython3",
   "version": "3.7.3"
  }
 },
 "nbformat": 4,
 "nbformat_minor": 2
}
