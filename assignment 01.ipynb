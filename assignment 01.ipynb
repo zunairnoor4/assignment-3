{
 "cells": [
  {
   "cell_type": "code",
   "execution_count": 1,
   "metadata": {},
   "outputs": [
    {
     "name": "stdout",
     "output_type": "stream",
     "text": [
      "Twinkle, twinkle, little star\n",
      "How I wonder what you are\n",
      "Up above the world so high\n",
      "Like a diamond in the sky\n",
      "Twinkle, twinkle little star\n",
      "How I wonder what you are\n",
      "\n",
      "When the blazing sun is gone\n",
      "When he nothing shines upon\n",
      "Then you show your little light\n",
      "Twinkle, twinkle, all the night\n",
      "Twinkle, twinkle, little star\n",
      "How I wonder what you are\n"
     ]
    }
   ],
   "source": [
    "# 1\n",
    "print('''Twinkle, twinkle, little star\n",
    "How I wonder what you are\n",
    "Up above the world so high\n",
    "Like a diamond in the sky\n",
    "Twinkle, twinkle little star\n",
    "How I wonder what you are\n",
    "\n",
    "When the blazing sun is gone\n",
    "When he nothing shines upon\n",
    "Then you show your little light\n",
    "Twinkle, twinkle, all the night\n",
    "Twinkle, twinkle, little star\n",
    "How I wonder what you are''')"
   ]
  },
  {
   "cell_type": "code",
   "execution_count": 2,
   "metadata": {},
   "outputs": [
    {
     "name": "stdout",
     "output_type": "stream",
     "text": [
      "3.7.3 (default, Mar 27 2019, 17:13:21) [MSC v.1915 64 bit (AMD64)]\n"
     ]
    }
   ],
   "source": [
    "# 2\n",
    "import sys\n",
    "print(sys.version)"
   ]
  },
  {
   "cell_type": "code",
   "execution_count": 3,
   "metadata": {},
   "outputs": [
    {
     "data": {
      "text/plain": [
       "datetime.date(2019, 11, 22)"
      ]
     },
     "execution_count": 3,
     "metadata": {},
     "output_type": "execute_result"
    }
   ],
   "source": [
    "# 3\n",
    "from datetime import date\n",
    "date.today()"
   ]
  },
  {
   "cell_type": "code",
   "execution_count": 4,
   "metadata": {},
   "outputs": [
    {
     "name": "stdout",
     "output_type": "stream",
     "text": [
      "First namezunair\n",
      "Second namenoor\n",
      "noor zunair\n"
     ]
    }
   ],
   "source": [
    "# 4\n",
    "x = input(\"First name\")\n",
    "y = input(\"Second name\")\n",
    "\n",
    "print(y + \" \"+ x)"
   ]
  },
  {
   "cell_type": "code",
   "execution_count": 6,
   "metadata": {},
   "outputs": [
    {
     "name": "stdout",
     "output_type": "stream",
     "text": [
      "first 4\n",
      "second 6\n",
      "10\n"
     ]
    }
   ],
   "source": [
    "a = int(input(\"first \"))\n",
    "b = int(input(\"second \"))\n",
    "print(a+b)"
   ]
  }
 ],
 "metadata": {
  "kernelspec": {
   "display_name": "Python 3",
   "language": "python",
   "name": "python3"
  },
  "language_info": {
   "codemirror_mode": {
    "name": "ipython",
    "version": 3
   },
   "file_extension": ".py",
   "mimetype": "text/x-python",
   "name": "python",
   "nbconvert_exporter": "python",
   "pygments_lexer": "ipython3",
   "version": "3.7.3"
  }
 },
 "nbformat": 4,
 "nbformat_minor": 2
}
