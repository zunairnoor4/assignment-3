{
 "cells": [
  {
   "cell_type": "code",
   "execution_count": null,
   "metadata": {},
   "outputs": [
    {
     "name": "stdout",
     "output_type": "stream",
     "text": [
      "1 for addition, 2 fod subtraction, 3 for multiplication, 4 for division, 5 for power\n"
     ]
    }
   ],
   "source": [
    "# 1>\n",
    "print(\"1 for addition, 2 fod subtraction, 3 for multiplication, 4 for division, 5 for power\")\n",
    "\n",
    "a = int(input(\"Enter First Number\"))\n",
    "b = int(input(\"Enter Second Number / Power\"))\n",
    "inp = int(input( \"Select Operation\"))\n",
    "\n",
    "if inp == 1:\n",
    "    print( \"a + b = \" a + b)\n",
    "elif inp == 2:\n",
    "    print( \"a - b = \" a-b)\n",
    "elif inp == 3:\n",
    "    print( \"a x b = \" a*b)\n",
    "elif inp ==4:\n",
    "    print( \"a / b = \" a/b)\n",
    "elif inp == 5:\n",
    "    print( \"a power b = \" a**b)\n",
    "else:\n",
    "    print(\" Please enter digits 1-5\")"
   ]
  },
  {
   "cell_type": "code",
   "execution_count": 1,
   "metadata": {},
   "outputs": [],
   "source": [
    "# 3\n",
    "d = {'a': 1, 'b': 2}\n",
    "print(d)\n",
    "d['a'] = 100  \n",
    "d['c'] = 3  \n",
    "d['d'] = 4\n",
    "print(d) \n"
   ]
  },
  {
   "cell_type": "code",
   "execution_count": 2,
   "metadata": {},
   "outputs": [
    {
     "name": "stdout",
     "output_type": "stream",
     "text": [
      "{'a': 12, 'b': 13, 'c': 14, 'd': 39}\n"
     ]
    }
   ],
   "source": [
    "# 4\n",
    "dict ={'a' :12 ,'b' :13 ,'c':14}\n",
    "dict['d'] = sum(dict.values())\n",
    "print(dict)"
   ]
  },
  {
   "cell_type": "code",
   "execution_count": null,
   "metadata": {},
   "outputs": [],
   "source": [
    "# 5\n",
    "seen = [1,2,4,5,7,6,4,5]\n",
    "uniq = []\n",
    "for x in seen:\n",
    "    if x not in seen:\n",
    "        uniq.append(x)\n",
    "        \n",
    "print(uniq)"
   ]
  },
  {
   "cell_type": "code",
   "execution_count": null,
   "metadata": {},
   "outputs": [],
   "source": []
  },
  {
   "cell_type": "code",
   "execution_count": null,
   "metadata": {},
   "outputs": [],
   "source": []
  },
  {
   "cell_type": "code",
   "execution_count": null,
   "metadata": {},
   "outputs": [],
   "source": []
  }
 ],
 "metadata": {
  "kernelspec": {
   "display_name": "Python 3",
   "language": "python",
   "name": "python3"
  },
  "language_info": {
   "codemirror_mode": {
    "name": "ipython",
    "version": 3
   },
   "file_extension": ".py",
   "mimetype": "text/x-python",
   "name": "python",
   "nbconvert_exporter": "python",
   "pygments_lexer": "ipython3",
   "version": "3.7.3"
  }
 },
 "nbformat": 4,
 "nbformat_minor": 2
}
